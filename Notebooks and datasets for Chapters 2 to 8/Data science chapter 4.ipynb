{
 "cells": [
  {
   "cell_type": "code",
   "execution_count": 1,
   "metadata": {},
   "outputs": [
    {
     "name": "stdout",
     "output_type": "stream",
     "text": [
      "Monday      1\n",
      "Tuesday     2\n",
      "Wednesday   3\n",
      "Thursday    4\n",
      "Friday      5\n",
      "Saturday    6\n",
      "Sunday      7\n"
     ]
    }
   ],
   "source": [
    "myfile = open(\"days_of_week.txt\", \"r\")\n",
    "print(myfile.read())"
   ]
  },
  {
   "cell_type": "code",
   "execution_count": 2,
   "metadata": {},
   "outputs": [
    {
     "name": "stdout",
     "output_type": "stream",
     "text": [
      "Monday      1\n",
      "Tuesday\n"
     ]
    }
   ],
   "source": [
    "myfile = open(\"days_of_week.txt\", \"r\")\n",
    "print(myfile.read(21))"
   ]
  },
  {
   "cell_type": "code",
   "execution_count": 3,
   "metadata": {},
   "outputs": [
    {
     "name": "stdout",
     "output_type": "stream",
     "text": [
      "Monday      1\n",
      "Tuesday     2\n",
      "Wednesday   3\n",
      "Thursday    4\n",
      "Friday      5\n",
      "Saturday    6\n",
      "Sunday      7\n"
     ]
    }
   ],
   "source": [
    "myfile = open(\"days_of_week.txt\")\n",
    "print(myfile.read())"
   ]
  },
  {
   "cell_type": "code",
   "execution_count": 30,
   "metadata": {},
   "outputs": [
    {
     "data": {
      "text/plain": [
       "<_io.TextIOWrapper name='days_of_week.txt' mode='r' encoding='cp1252'>"
      ]
     },
     "execution_count": 30,
     "metadata": {},
     "output_type": "execute_result"
    }
   ],
   "source": [
    "myfile\n"
   ]
  },
  {
   "cell_type": "code",
   "execution_count": 31,
   "metadata": {},
   "outputs": [
    {
     "data": {
      "text/plain": [
       "_io.TextIOWrapper"
      ]
     },
     "execution_count": 31,
     "metadata": {},
     "output_type": "execute_result"
    }
   ],
   "source": [
    "type(myfile)"
   ]
  },
  {
   "cell_type": "code",
   "execution_count": 5,
   "metadata": {},
   "outputs": [
    {
     "name": "stdout",
     "output_type": "stream",
     "text": [
      "Reading observations from our dataset: Monday      1\n",
      "\n",
      "Reading observations from our dataset: Tuesday     2\n",
      "\n",
      "Reading observations from our dataset: Wednesday   3\n",
      "\n",
      "Reading observations from our dataset: Thursday    4\n",
      "\n",
      "Reading observations from our dataset: Friday      5\n",
      "\n",
      "Reading observations from our dataset: Saturday    6\n",
      "\n",
      "Reading observations from our dataset: Sunday      7\n"
     ]
    }
   ],
   "source": [
    "myfile = open(\"days_of_week.txt\")\n",
    "for k in myfile:\n",
    "    print ('Reading observations from our dataset: ' + k)"
   ]
  },
  {
   "cell_type": "code",
   "execution_count": 6,
   "metadata": {},
   "outputs": [
    {
     "name": "stdout",
     "output_type": "stream",
     "text": [
      "Sampling rows: 0, Retrieved data Monday      1\n",
      "\n",
      "Sampling rows: 3, Retrieved data Thursday    4\n",
      "\n",
      "Sampling rows: 6, Retrieved data Sunday      7\n"
     ]
    }
   ],
   "source": [
    "n = 3\n",
    "myfile = open(\"days_of_week.txt\")\n",
    "for k, observation in enumerate(myfile):\n",
    "    if k % n==0:\n",
    "        print('Sampling rows: ' + str(k) + ', Retrieved data ' + observation)"
   ]
  },
  {
   "cell_type": "code",
   "execution_count": 68,
   "metadata": {},
   "outputs": [
    {
     "name": "stdout",
     "output_type": "stream",
     "text": [
      "[(0, 'Monday      1\\n'), (1, 'Tuesday     2\\n'), (2, 'Wednesday   3\\n'), (3, 'Thursday    4\\n'), (4, 'Friday      5\\n'), (5, 'Saturday    6\\n'), (6, 'Sunday      7')]\n"
     ]
    }
   ],
   "source": [
    "\n",
    "myfile = open(\"days_of_week.txt\", \"r\")\n",
    "print(list(enumerate(myfile)))"
   ]
  },
  {
   "cell_type": "code",
   "execution_count": 69,
   "metadata": {},
   "outputs": [
    {
     "name": "stdout",
     "output_type": "stream",
     "text": [
      "0 Monday      1\n",
      "\n",
      "1 Tuesday     2\n",
      "\n",
      "2 Wednesday   3\n",
      "\n",
      "3 Thursday    4\n",
      "\n",
      "4 Friday      5\n",
      "\n",
      "5 Saturday    6\n",
      "\n",
      "6 Sunday      7\n"
     ]
    }
   ],
   "source": [
    "myfile = open(\"days_of_week.txt\")\n",
    "for k, observation in enumerate(myfile):\n",
    "    print(k, observation)"
   ]
  },
  {
   "cell_type": "code",
   "execution_count": 7,
   "metadata": {},
   "outputs": [
    {
     "name": "stdout",
     "output_type": "stream",
     "text": [
      "     Degrees     Sine  Cosine  Tangent\n",
      "0          0        0       1        0\n",
      "1          1   0.0175  0.9998   0.0175\n",
      "2          2   0.0349  0.9994   0.0349\n",
      "3          3   0.0523  0.9986   0.0524\n",
      "4          4   0.0698  0.9976   0.0699\n",
      "..       ...      ...     ...      ...\n",
      "356      356  ‐0.0698  0.9976  ‐0.0699\n",
      "357      357  ‐0.0523  0.9986  ‐0.0524\n",
      "358      358  ‐0.0349  0.9994  ‐0.0349\n",
      "359      359  ‐0.0175  0.9998  ‐0.0175\n",
      "360      360        0       1        0\n",
      "\n",
      "[361 rows x 4 columns]\n"
     ]
    }
   ],
   "source": [
    "import pandas as pd\n",
    "xl_file = pd.ExcelFile(\"trigonometric_functions.xlsx\")\n",
    "trig_values = xl_file.parse('Sheet1')\n",
    "print(trig_values)"
   ]
  },
  {
   "cell_type": "code",
   "execution_count": 11,
   "metadata": {},
   "outputs": [
    {
     "name": "stdout",
     "output_type": "stream",
     "text": [
      "Column names are name, age, designation\n",
      "\tJohn is 50 year old, and works as Manager.\n",
      "\tJulia is 40 year old, and works as Assistant Manager.\n",
      "\tTom is 30 year old, and works as Programmer.\n",
      "\tSophia is 25 year old, and works as Accountant.\n",
      "Processed 5 lines.\n"
     ]
    }
   ],
   "source": [
    "import csv \n",
    "csv_file = open('example_csv.csv')\n",
    "csv_reader = csv.reader(csv_file, delimiter=',')\n",
    "line_count = 0\n",
    "for row in csv_reader:\n",
    "    if line_count == 0:\n",
    "        print(f'Column names are {\", \".join(row)}')\n",
    "        line_count += 1\n",
    "    else:\n",
    "        print(f'\\t{row[0]} is {row[1]} year old, and works as {row[2]}.')\n",
    "        line_count += 1\n",
    "print(f'Processed {line_count} lines.')"
   ]
  },
  {
   "cell_type": "code",
   "execution_count": 12,
   "metadata": {},
   "outputs": [
    {
     "data": {
      "text/plain": [
       "['Sophia', '25', 'Accountant']"
      ]
     },
     "execution_count": 12,
     "metadata": {},
     "output_type": "execute_result"
    }
   ],
   "source": [
    "row"
   ]
  },
  {
   "cell_type": "code",
   "execution_count": 13,
   "metadata": {},
   "outputs": [
    {
     "data": {
      "text/html": [
       "<div>\n",
       "<style scoped>\n",
       "    .dataframe tbody tr th:only-of-type {\n",
       "        vertical-align: middle;\n",
       "    }\n",
       "\n",
       "    .dataframe tbody tr th {\n",
       "        vertical-align: top;\n",
       "    }\n",
       "\n",
       "    .dataframe thead th {\n",
       "        text-align: right;\n",
       "    }\n",
       "</style>\n",
       "<table border=\"1\" class=\"dataframe\">\n",
       "  <thead>\n",
       "    <tr style=\"text-align: right;\">\n",
       "      <th></th>\n",
       "      <th>name</th>\n",
       "      <th>age</th>\n",
       "      <th>designation</th>\n",
       "    </tr>\n",
       "  </thead>\n",
       "  <tbody>\n",
       "    <tr>\n",
       "      <th>0</th>\n",
       "      <td>John</td>\n",
       "      <td>50</td>\n",
       "      <td>Manager</td>\n",
       "    </tr>\n",
       "    <tr>\n",
       "      <th>1</th>\n",
       "      <td>Julia</td>\n",
       "      <td>40</td>\n",
       "      <td>Assistant Manager</td>\n",
       "    </tr>\n",
       "    <tr>\n",
       "      <th>2</th>\n",
       "      <td>Tom</td>\n",
       "      <td>30</td>\n",
       "      <td>Programmer</td>\n",
       "    </tr>\n",
       "    <tr>\n",
       "      <th>3</th>\n",
       "      <td>Sophia</td>\n",
       "      <td>25</td>\n",
       "      <td>Accountant</td>\n",
       "    </tr>\n",
       "  </tbody>\n",
       "</table>\n",
       "</div>"
      ],
      "text/plain": [
       "     name  age        designation\n",
       "0    John   50            Manager\n",
       "1   Julia   40  Assistant Manager\n",
       "2     Tom   30         Programmer\n",
       "3  Sophia   25         Accountant"
      ]
     },
     "execution_count": 13,
     "metadata": {},
     "output_type": "execute_result"
    }
   ],
   "source": [
    "import pandas as pd \n",
    "data1 = pd.read_csv(\"example_csv.csv\") \n",
    "data1.head()"
   ]
  },
  {
   "cell_type": "code",
   "execution_count": 16,
   "metadata": {},
   "outputs": [],
   "source": [
    "from lxml import html\n",
    "import requests"
   ]
  },
  {
   "cell_type": "code",
   "execution_count": 17,
   "metadata": {},
   "outputs": [],
   "source": [
    "page = requests.get('http://econpy.pythonanywhere.com/ex/001.html')\n",
    "tree = html.fromstring(page.content)"
   ]
  },
  {
   "cell_type": "code",
   "execution_count": 18,
   "metadata": {},
   "outputs": [],
   "source": [
    "#This will create a list of buyers:\n",
    "buyers = tree.xpath('//div[@title=\"buyer-name\"]/text()')\n",
    "#This will create a list of prices\n",
    "prices = tree.xpath('//span[@class=\"item-price\"]/text()')"
   ]
  },
  {
   "cell_type": "code",
   "execution_count": 19,
   "metadata": {},
   "outputs": [
    {
     "name": "stdout",
     "output_type": "stream",
     "text": [
      "Buyers:  ['Carson Busses', 'Earl E. Byrd', 'Patty Cakes', 'Derri Anne Connecticut', 'Moe Dess', 'Leda Doggslife', 'Dan Druff', 'Al Fresco', 'Ido Hoe', 'Howie Kisses', 'Len Lease', 'Phil Meup', 'Ira Pent', 'Ben D. Rules', 'Ave Sectomy', 'Gary Shattire', 'Bobbi Soks', 'Sheila Takya', 'Rose Tattoo', 'Moe Tell']\n",
      "Prices:  ['$29.95', '$8.37', '$15.26', '$19.25', '$19.25', '$13.99', '$31.57', '$8.49', '$14.47', '$15.86', '$11.11', '$15.98', '$16.27', '$7.50', '$50.85', '$14.26', '$5.68', '$15.00', '$114.07', '$10.09']\n"
     ]
    }
   ],
   "source": [
    "print ('Buyers: ', buyers)\n",
    "print ('Prices: ', prices)"
   ]
  },
  {
   "cell_type": "code",
   "execution_count": 20,
   "metadata": {},
   "outputs": [
    {
     "data": {
      "text/plain": [
       "<lxml.etree._ElementTree at 0x1e55c815588>"
      ]
     },
     "execution_count": 20,
     "metadata": {},
     "output_type": "execute_result"
    }
   ],
   "source": [
    "from lxml import objectify\n",
    "my_xml = objectify.parse('books.xml')\n",
    "my_xml\n"
   ]
  },
  {
   "cell_type": "code",
   "execution_count": 21,
   "metadata": {},
   "outputs": [
    {
     "data": {
      "text/plain": [
       "<Element bookstore at 0x1e55c8152c8>"
      ]
     },
     "execution_count": 21,
     "metadata": {},
     "output_type": "execute_result"
    }
   ],
   "source": [
    "root = my_xml.getroot()\n",
    "root"
   ]
  },
  {
   "cell_type": "code",
   "execution_count": 22,
   "metadata": {},
   "outputs": [
    {
     "data": {
      "text/plain": [
       "'Giada De Laurentiis'"
      ]
     },
     "execution_count": 22,
     "metadata": {},
     "output_type": "execute_result"
    }
   ],
   "source": [
    "root.book.author"
   ]
  },
  {
   "cell_type": "code",
   "execution_count": 23,
   "metadata": {},
   "outputs": [
    {
     "data": {
      "text/plain": [
       "2005"
      ]
     },
     "execution_count": 23,
     "metadata": {},
     "output_type": "execute_result"
    }
   ],
   "source": [
    "root.book.year"
   ]
  },
  {
   "cell_type": "code",
   "execution_count": 24,
   "metadata": {},
   "outputs": [
    {
     "data": {
      "text/plain": [
       "[<Element book at 0x1e55c8231c8>,\n",
       " <Element book at 0x1e55c823148>,\n",
       " <Element book at 0x1e55c823208>,\n",
       " <Element book at 0x1e55c823248>]"
      ]
     },
     "execution_count": 24,
     "metadata": {},
     "output_type": "execute_result"
    }
   ],
   "source": [
    "root.getchildren()"
   ]
  },
  {
   "cell_type": "code",
   "execution_count": 25,
   "metadata": {},
   "outputs": [
    {
     "data": {
      "text/plain": [
       "['title', 'author', 'year', 'price']"
      ]
     },
     "execution_count": 25,
     "metadata": {},
     "output_type": "execute_result"
    }
   ],
   "source": [
    "[child.tag for child in root.book.getchildren()]"
   ]
  },
  {
   "cell_type": "code",
   "execution_count": 26,
   "metadata": {},
   "outputs": [
    {
     "data": {
      "text/plain": [
       "['Everyday Italian', 'Giada De Laurentiis', '2005', '30.00']"
      ]
     },
     "execution_count": 26,
     "metadata": {},
     "output_type": "execute_result"
    }
   ],
   "source": [
    "[child.text for child in root.book.getchildren()]"
   ]
  },
  {
   "cell_type": "code",
   "execution_count": null,
   "metadata": {},
   "outputs": [],
   "source": []
  }
 ],
 "metadata": {
  "kernelspec": {
   "display_name": "Python 3",
   "language": "python",
   "name": "python3"
  },
  "language_info": {
   "codemirror_mode": {
    "name": "ipython",
    "version": 3
   },
   "file_extension": ".py",
   "mimetype": "text/x-python",
   "name": "python",
   "nbconvert_exporter": "python",
   "pygments_lexer": "ipython3",
   "version": "3.7.6"
  }
 },
 "nbformat": 4,
 "nbformat_minor": 4
}
